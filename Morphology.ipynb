{
 "cells": [
  {
   "cell_type": "code",
   "execution_count": 7,
   "metadata": {},
   "outputs": [
    {
     "data": {
      "text/plain": [
       "-1"
      ]
     },
     "execution_count": 7,
     "metadata": {},
     "output_type": "execute_result"
    }
   ],
   "source": [
    "#Erosion\n",
    "import cv2 \n",
    "import numpy as np \n",
    "img = cv2.imread('C:\\\\Users\\\\HP\\\\Desktop\\\\computer vision\\\\pokemon_games.png')\n",
    "kernel = np.ones((5,5), np.uint8)   \n",
    "img_erosion=cv2.erode(img, kernel, iterations=1)   \n",
    "cv2.imshow('result after erosion',img_erosion)\n",
    "cv2.waitKey(0)\n"
   ]
  },
  {
   "cell_type": "code",
   "execution_count": 8,
   "metadata": {},
   "outputs": [
    {
     "data": {
      "text/plain": [
       "-1"
      ]
     },
     "execution_count": 8,
     "metadata": {},
     "output_type": "execute_result"
    }
   ],
   "source": [
    "#Dilation\n",
    "import cv2\n",
    "import numpy as np\n",
    "img = cv2.imread('C:\\\\Users\\\\HP\\\\Desktop\\\\computer vision\\\\pokemon_games.png',0)\n",
    "kernel = np.ones((5,5),np.uint8)\n",
    "dilation = cv2.dilate(img,kernel,iterations = 1)\n",
    "cv2.imshow('result after dilation',dilation)\n",
    "cv2.waitKey(0)"
   ]
  },
  {
   "cell_type": "code",
   "execution_count": 9,
   "metadata": {},
   "outputs": [
    {
     "data": {
      "text/plain": [
       "-1"
      ]
     },
     "execution_count": 9,
     "metadata": {},
     "output_type": "execute_result"
    }
   ],
   "source": [
    "#Opening\n",
    "import cv2\n",
    "import numpy as np\n",
    "img = cv2.imread('C:\\\\Users\\\\HP\\\\Desktop\\\\computer vision\\\\pokemon_games.png',0)\n",
    "kernel = np.ones((5,5),np.uint8)\n",
    "opening = cv2.morphologyEx(img, cv2.MORPH_OPEN, kernel)\n",
    "cv2.imshow('result after opening',opening)\n",
    "cv2.waitKey(0)"
   ]
  },
  {
   "cell_type": "code",
   "execution_count": 10,
   "metadata": {},
   "outputs": [
    {
     "data": {
      "text/plain": [
       "-1"
      ]
     },
     "execution_count": 10,
     "metadata": {},
     "output_type": "execute_result"
    }
   ],
   "source": [
    "#Closing\n",
    "import cv2\n",
    "import numpy as np\n",
    "img = cv2.imread('C:\\\\Users\\\\HP\\\\Desktop\\\\computer vision\\\\pokemon_games.png',0)\n",
    "kernel = np.ones((5,5),np.uint8)\n",
    "opening = cv2.morphologyEx(img, cv2.MORPH_CLOSE, kernel)\n",
    "cv2.imshow('result after opening',opening)\n",
    "cv2.waitKey(0)"
   ]
  },
  {
   "cell_type": "code",
   "execution_count": 12,
   "metadata": {},
   "outputs": [],
   "source": [
    "#Skeletonization\n",
    "import cv2\n",
    "import numpy as np\n",
    "\n",
    "img = cv2.imread('C:\\\\Users\\\\HP\\\\Desktop\\\\computer vision\\\\pokemon_games.png',0)\n",
    "size = np.size(img)\n",
    "skel = np.zeros(img.shape,np.uint8)\n",
    "\n",
    "ret,img = cv2.threshold(img,127,255,0)\n",
    "element = cv2.getStructuringElement(cv2.MORPH_CROSS,(3,3))\n",
    "done = False\n",
    "\n",
    "while( not done):\n",
    "    eroded = cv2.erode(img,element)\n",
    "    temp = cv2.dilate(eroded,element)\n",
    "    temp = cv2.subtract(img,temp)\n",
    "    skel = cv2.bitwise_or(skel,temp)\n",
    "    img = eroded.copy()\n",
    "\n",
    "    zeros = size - cv2.countNonZero(img)\n",
    "    if zeros==size:\n",
    "        done = True\n",
    "\n",
    "cv2.imshow(\"skel\",skel)\n",
    "cv2.waitKey(0)\n",
    "cv2.destroyAllWindows()"
   ]
  },
  {
   "cell_type": "code",
   "execution_count": null,
   "metadata": {},
   "outputs": [],
   "source": []
  }
 ],
 "metadata": {
  "kernelspec": {
   "display_name": "Python 3",
   "language": "python",
   "name": "python3"
  },
  "language_info": {
   "codemirror_mode": {
    "name": "ipython",
    "version": 3
   },
   "file_extension": ".py",
   "mimetype": "text/x-python",
   "name": "python",
   "nbconvert_exporter": "python",
   "pygments_lexer": "ipython3",
   "version": "3.7.3"
  }
 },
 "nbformat": 4,
 "nbformat_minor": 2
}
