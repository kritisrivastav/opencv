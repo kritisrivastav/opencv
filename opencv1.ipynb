{
 "cells": [
  {
   "cell_type": "code",
   "execution_count": 2,
   "metadata": {},
   "outputs": [],
   "source": [
    "import cv2\n",
    "import imutils#imutils package contains the convenience functions like rotation etc\n",
    "img=cv2.imread(\"C:\\\\Users\\\\HP\\\\Desktop\\\\machine learning geeks\\\\machine\\\\handgesturecalculator\\\\1.jpg\")#loading an image from disk to memory\n",
    "#cv2.imshow(\"demo\",img)\n",
    "#cv2.waitKey(0)"
   ]
  },
  {
   "cell_type": "code",
   "execution_count": 3,
   "metadata": {},
   "outputs": [
    {
     "name": "stdout",
     "output_type": "stream",
     "text": [
      "width=600,height=450,depth=3\n"
     ]
    }
   ],
   "source": [
    "(h,w,d)=img.shape\n",
    "print(\"width={},height={},depth={}\".format(h,w,d))"
   ]
  },
  {
   "cell_type": "code",
   "execution_count": 4,
   "metadata": {},
   "outputs": [
    {
     "name": "stdout",
     "output_type": "stream",
     "text": [
      "R=42,G=44,B=41\n"
     ]
    }
   ],
   "source": [
    "(B,G,R)=img[100,50]\n",
    "print(\"R={},G={},B={}\".format(R,G,B))#printing the value of an individual pixel in an image"
   ]
  },
  {
   "cell_type": "code",
   "execution_count": 5,
   "metadata": {},
   "outputs": [
    {
     "data": {
      "text/plain": [
       "48"
      ]
     },
     "execution_count": 5,
     "metadata": {},
     "output_type": "execute_result"
    }
   ],
   "source": [
    "roi=img[10:160,120:420]\n",
    "cv2.imshow(\"ROI\",roi)\n",
    "cv2.waitKey(0)"
   ]
  },
  {
   "cell_type": "code",
   "execution_count": null,
   "metadata": {},
   "outputs": [],
   "source": []
  }
 ],
 "metadata": {
  "kernelspec": {
   "display_name": "Python 3",
   "language": "python",
   "name": "python3"
  },
  "language_info": {
   "codemirror_mode": {
    "name": "ipython",
    "version": 3
   },
   "file_extension": ".py",
   "mimetype": "text/x-python",
   "name": "python",
   "nbconvert_exporter": "python",
   "pygments_lexer": "ipython3",
   "version": "3.7.0"
  }
 },
 "nbformat": 4,
 "nbformat_minor": 2
}
